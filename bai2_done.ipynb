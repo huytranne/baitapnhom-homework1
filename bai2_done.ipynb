{
  "cells": [
    {
      "cell_type": "code",
      "execution_count": null,
      "metadata": {
        "id": "eDSTw35Zh_nT"
      },
      "outputs": [],
      "source": [
        "min_support = 100"
      ]
    },
    {
      "cell_type": "code",
      "execution_count": null,
      "metadata": {
        "id": "zkt1LPQIh_nh"
      },
      "outputs": [],
      "source": [
        "input_path = 'browsing.txt'\n",
        "dataset = []\n",
        "with open(input_path, 'r') as f:\n",
        "    for line in f:\n",
        "        dataset.append(sorted(set(line.strip().split(' '))))"
      ]
    },
    {
      "cell_type": "code",
      "execution_count": null,
      "metadata": {
        "id": "wxDYealzh_nj",
        "colab": {
          "base_uri": "https://localhost:8080/"
        },
        "outputId": "7ad7bdb7-d7dc-44e8-e3b3-68b379def8a5"
      },
      "outputs": [
        {
          "output_type": "stream",
          "name": "stdout",
          "text": [
            "Number of transactions: 31101\n"
          ]
        }
      ],
      "source": [
        "print('Number of transactions: {}'.format(len(dataset)))"
      ]
    },
    {
      "cell_type": "code",
      "execution_count": null,
      "metadata": {
        "id": "zfYpf9R6h_np",
        "colab": {
          "base_uri": "https://localhost:8080/"
        },
        "outputId": "f49a477b-8ef8-4ea6-9cff-ce9c11a2ab05"
      },
      "outputs": [
        {
          "output_type": "stream",
          "name": "stdout",
          "text": [
            "Number of frequent items: 647\n"
          ]
        }
      ],
      "source": [
        "singles_support = {}\n",
        "\n",
        "for transaction in dataset:\n",
        "    for item in transaction:\n",
        "        singles_support[item] = singles_support.get(item, 0) + 1\n",
        "\n",
        "singles_support = {k: v for k, v in singles_support.items() if v >= min_support}\n",
        "\n",
        "print('Number of frequent items: {}'.format(len(singles_support)))"
      ]
    },
    {
      "cell_type": "code",
      "execution_count": null,
      "metadata": {
        "id": "IZW1sBUNh_oH",
        "outputId": "ad212113-5ee4-4b3b-a6c2-5efb1dbd2c2a",
        "colab": {
          "base_uri": "https://localhost:8080/"
        }
      },
      "outputs": [
        {
          "output_type": "stream",
          "name": "stdout",
          "text": [
            "Number of frequent double items: 1334\n"
          ]
        }
      ],
      "source": [
        "double_support = {}\n",
        "for transaction in dataset:\n",
        "    for i in range(len(transaction)):\n",
        "        if transaction[i] in singles_support:\n",
        "            for j in range(i):\n",
        "                if transaction[j] in singles_support:\n",
        "\n",
        "                    double_support[(transaction[j], transaction[i])] = double_support.get((transaction[j], transaction[i]), 0) + 1\n",
        "\n",
        "double_support = {k: v for k, v in double_support.items() if v >= min_support}\n",
        "\n",
        "print('Number of frequent double items: {}'.format(len(double_support)))"
      ]
    },
    {
      "cell_type": "code",
      "execution_count": null,
      "metadata": {
        "id": "36Sl-nw0h_oM",
        "outputId": "6a164717-8399-4fc4-9948-697ddb35cd53",
        "colab": {
          "base_uri": "https://localhost:8080/"
        }
      },
      "outputs": [
        {
          "output_type": "stream",
          "name": "stdout",
          "text": [
            "Top 10 association rules:\n",
            "conf(DAI93865 -> FRO40251) = 1.000\n",
            "conf(GRO85051 -> FRO40251) = 0.999\n",
            "conf(GRO38636 -> FRO40251) = 0.991\n",
            "conf(ELE12951 -> FRO40251) = 0.991\n",
            "conf(DAI88079 -> FRO40251) = 0.987\n",
            "conf(FRO92469 -> FRO40251) = 0.984\n",
            "conf(DAI43868 -> SNA82528) = 0.973\n",
            "conf(DAI23334 -> DAI62779) = 0.955\n",
            "conf(ELE92920 -> DAI62779) = 0.733\n",
            "conf(DAI53152 -> FRO40251) = 0.718\n"
          ]
        }
      ],
      "source": [
        "doubles_conf = []\n",
        "for double, support in double_support.items():\n",
        "    x, y = double\n",
        "    xy_conf = support / singles_support[x]\n",
        "    yx_conf = support / singles_support[y]\n",
        "    doubles_conf.extend([(((x), y), xy_conf), \n",
        "                         (((y), x), yx_conf)])\n",
        "\n",
        "doubles_conf = sorted(doubles_conf, key=lambda x: (-x[1], x[0][0][0]))\n",
        "print('Top 10 association rules:')\n",
        "for i in range(10):\n",
        "    print('conf({} -> {}) = {:.3f}'.format(doubles_conf[i][0][0], doubles_conf[i][0][1], doubles_conf[i][1]))"
      ]
    },
    {
      "cell_type": "code",
      "execution_count": null,
      "metadata": {
        "id": "Kdfi0bi_h_oP",
        "outputId": "e72c97bb-85fa-4cf9-90f8-1faf6552ab26",
        "colab": {
          "base_uri": "https://localhost:8080/"
        }
      },
      "outputs": [
        {
          "output_type": "stream",
          "name": "stdout",
          "text": [
            "Number of frequent triple items: 233\n"
          ]
        }
      ],
      "source": [
        "triple_support = {}\n",
        "for transaction in dataset:\n",
        "    for i in range(len(transaction)):\n",
        "        if transaction[i] not in singles_support:\n",
        "            continue\n",
        "        for j in range(i):\n",
        "            if transaction[j] not in singles_support:\n",
        "                continue\n",
        "            if (transaction[j], transaction[i]) not in double_support:\n",
        "                continue\n",
        "            for k in range(j):\n",
        "                if transaction[k] not in singles_support:\n",
        "                    continue\n",
        "                if (transaction[k], transaction[j]) not in double_support:\n",
        "                    continue\n",
        "                if (transaction[k], transaction[i]) not in double_support:\n",
        "                    continue\n",
        "                triple_support[(transaction[k], transaction[j], transaction[i])] = triple_support.get((transaction[k], transaction[j], transaction[i]), 0) + 1\n",
        "\n",
        "triple_support = {k: v for k, v in triple_support.items() if v >= min_support}\n",
        "\n",
        "print('Number of frequent triple items: {}'.format(len(triple_support)))"
      ]
    },
    {
      "cell_type": "code",
      "execution_count": null,
      "metadata": {
        "id": "YniC72Elh_oR",
        "outputId": "6125044f-6d4c-4424-ad66-aa1c6d3d934c",
        "colab": {
          "base_uri": "https://localhost:8080/"
        }
      },
      "outputs": [
        {
          "output_type": "stream",
          "name": "stdout",
          "text": [
            "Top 10 association rules:\n",
            "conf({DAI23334, ELE92920} -> DAI62779) = 1.000\n",
            "conf({DAI31081, GRO85051} -> FRO40251) = 1.000\n",
            "conf({DAI55911, GRO85051} -> FRO40251) = 1.000\n",
            "conf({DAI62779, DAI88079} -> FRO40251) = 1.000\n",
            "conf({DAI75645, GRO85051} -> FRO40251) = 1.000\n",
            "conf({ELE17451, GRO85051} -> FRO40251) = 1.000\n",
            "conf({ELE20847, FRO92469} -> FRO40251) = 1.000\n",
            "conf({ELE20847, GRO85051} -> FRO40251) = 1.000\n",
            "conf({ELE26917, GRO85051} -> FRO40251) = 1.000\n",
            "conf({FRO53271, GRO85051} -> FRO40251) = 1.000\n"
          ]
        }
      ],
      "source": [
        "triples_conf = []\n",
        "for triple, support in triple_support.items():\n",
        "    x, y, z = triple\n",
        "    xy_z_conf = support / double_support[(x, y)]\n",
        "    xz_y_conf = support / double_support[(x, z)]\n",
        "    yz_x_conf = support / double_support[(y, z)]\n",
        "    triples_conf.extend([(((x, y), z), xy_z_conf), \n",
        "                         (((x, z), y), xz_y_conf), \n",
        "                         (((y, z), x), yz_x_conf)])\n",
        "\n",
        "triples_conf = sorted(triples_conf, key=lambda x: (-x[1], x[0][0][0], x[0][0][1]))\n",
        "\n",
        "print('Top 10 association rules:')\n",
        "for i in range(10):\n",
        "    print(f\"conf({{{triples_conf[i][0][0][0]}, {triples_conf[i][0][0][1]}}} -> {triples_conf[i][0][1]}) = {triples_conf[i][1]:.3f}\")"
      ]
    }
  ],
  "metadata": {
    "kernelspec": {
      "display_name": "big_data",
      "language": "python",
      "name": "python3"
    },
    "language_info": {
      "codemirror_mode": {
        "name": "ipython",
        "version": 3
      },
      "file_extension": ".py",
      "mimetype": "text/x-python",
      "name": "python",
      "nbconvert_exporter": "python",
      "pygments_lexer": "ipython3",
      "version": "3.9.16"
    },
    "orig_nbformat": 4,
    "colab": {
      "provenance": []
    }
  },
  "nbformat": 4,
  "nbformat_minor": 0
}