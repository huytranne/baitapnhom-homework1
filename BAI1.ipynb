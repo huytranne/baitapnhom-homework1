{
  "cells": [
    {
      "cell_type": "code",
      "execution_count": null,
      "metadata": {
        "id": "OWarJz294vKh",
        "colab": {
          "base_uri": "https://localhost:8080/"
        },
        "outputId": "2e074cec-a709-4490-e7ea-5bffa6f62a21"
      },
      "outputs": [
        {
          "output_type": "stream",
          "name": "stdout",
          "text": [
            "Looking in indexes: https://pypi.org/simple, https://us-python.pkg.dev/colab-wheels/public/simple/\n",
            "Requirement already satisfied: pyspark in /usr/local/lib/python3.9/dist-packages (3.3.2)\n",
            "Requirement already satisfied: py4j==0.10.9.5 in /usr/local/lib/python3.9/dist-packages (from pyspark) (0.10.9.5)\n",
            "openjdk-8-jdk-headless is already the newest version (8u362-ga-0ubuntu1~20.04.1).\n",
            "0 upgraded, 0 newly installed, 0 to remove and 23 not upgraded.\n"
          ]
        }
      ],
      "source": [
        "!pip install pyspark\n",
        "!pip install -U -q PyDrive\n",
        "!apt install openjdk-8-jdk-headless -qq\n",
        "import os\n",
        "os.environ[\"JAVA_HOME\"] = \"/usr/lib/jvm/java-8-op\""
      ]
    },
    {
      "cell_type": "code",
      "execution_count": null,
      "metadata": {
        "id": "YUDoBOc4wyB4"
      },
      "outputs": [],
      "source": [
        "import os\n",
        "os.environ[\"JAVA_HOME\"] = \"/usr/lib/jvm/java-8-openjdk-amd64\""
      ]
    },
    {
      "cell_type": "code",
      "execution_count": null,
      "metadata": {
        "id": "xQORvvwguvio"
      },
      "outputs": [],
      "source": [
        "from pydrive.auth import GoogleAuth\n",
        "from pydrive.drive import GoogleDrive\n",
        "from google.colab import auth\n",
        "from oauth2client.client import GoogleCredentials\n",
        "\n",
        "# Authenticate and create the PyDrive client\n",
        "auth.authenticate_user()\n",
        "gauth = GoogleAuth()\n",
        "gauth.credentials = GoogleCredentials.get_application_default()\n",
        "drive = GoogleDrive(gauth)"
      ]
    },
    {
      "cell_type": "code",
      "execution_count": null,
      "metadata": {
        "id": "tbW-Wnywu7Kv"
      },
      "outputs": [],
      "source": [
        "from pyspark.sql import *\n",
        "from pyspark.sql.functions import *\n",
        "from pyspark import SparkContext\n",
        "import pandas as pd\n",
        "\n"
      ]
    },
    {
      "cell_type": "code",
      "execution_count": null,
      "metadata": {
        "id": "sfe37fRswdRX"
      },
      "outputs": [],
      "source": [
        "# create the Spark Session\n",
        "spark = SparkSession.builder.getOrCreate()\n",
        "\n",
        "# create the Spark Context\n",
        "sc = spark.sparkContext"
      ]
    },
    {
      "cell_type": "code",
      "execution_count": null,
      "metadata": {
        "id": "BcwJ_lWIxMM3"
      },
      "outputs": [],
      "source": [
        "# YOUR\n",
        "txt = spark.read.text('/content/drive/MyDrive/soc-LiveJournal1Adj.txt')\n"
      ]
    },
    {
      "cell_type": "code",
      "execution_count": null,
      "metadata": {
        "id": "neenspXTvnug"
      },
      "outputs": [],
      "source": [
        "import re, sys\n",
        "from pyspark import SparkConf, SparkContext\n",
        "\n",
        "\n",
        "\n"
      ]
    },
    {
      "cell_type": "code",
      "source": [
        "# create the Spark Session\n",
        "spark = SparkSession.builder.getOrCreate()\n",
        "\n",
        "# create the Spark Context\n",
        "sc = spark.sparkContext\n",
        "\n",
        "lines = sc.textFile(\"/content/drive/MyDrive/soc-LiveJournal1Adj.txt\")\n",
        "\n",
        "def lines2cands(l):\n",
        "    uvs = re.split(r'[,\\t]', l.strip()) # 'u' 'a' 'b' 'c' 'd'\n",
        "    uvs = list(map(int, uvs)) # u a b c d\n",
        "    u = uvs[0]\n",
        "    vs = sorted(uvs[1:])\n",
        "    # each cand pair has score 1\n",
        "    ret = []\n",
        "    for i in range(len(vs)):\n",
        "        for j in range(i):\n",
        "            ret.append(((vs[j], vs[i]), 1))\n",
        "    # if already connected, score -inf\n",
        "    minf = -float('inf')\n",
        "    for v in vs:\n",
        "        if u < v:\n",
        "            ret.append(((u, v), minf))\n",
        "        else:\n",
        "            ret.append(((v, u), minf))\n",
        "    # returns [] if no friend. flatMap ignores []\n",
        "    return ret\n",
        "\n",
        "cands = lines.flatMap(lines2cands)\n",
        "\n",
        "cnt = cands.reduceByKey(lambda x, y: x + y) # ((a b) num)\n",
        "cnt = cnt.filter(lambda kv: kv[1] > 0) # filter connected\n",
        "# up to here, those w/o 2nd deg friends are excluded\n",
        "\n",
        "def cnt2suggest(uv_num):\n",
        "    uv, num = uv_num\n",
        "    u, v = uv\n",
        "    return (u, (num, v)), (v, (num, u))\n",
        "\n",
        "suggest = cnt.flatMap(cnt2suggest) # (a, (num b)) (b, (num a))\n",
        "suggest = suggest.groupByKey() # (a, ((num b) (num c)) )\n",
        "\n",
        "def processSuggest(suggest):\n",
        "    u, vs = suggest\n",
        "    # sort by number of common friends\n",
        "    vs = sorted(vs, key=lambda v: (-v[0], v[1]))\n",
        "    vs = vs[:10]\n",
        "    # remove numbers. leave friend ids\n",
        "    vs = list(zip(*vs))[1]\n",
        "    return u, vs\n",
        "\n",
        "suggest = suggest.map(processSuggest)\n",
        "\n",
        "suggest = suggest.sortBy(lambda u_vs: u_vs[0])\n",
        "\n",
        "\n"
      ],
      "metadata": {
        "id": "MS0Q1caQ0ZcF"
      },
      "execution_count": null,
      "outputs": []
    },
    {
      "cell_type": "code",
      "source": [
        "suggest.saveAsTextFile('bai1.homework01')\n",
        "\n",
        "sc.stop()\n"
      ],
      "metadata": {
        "id": "qwlC7l2lxvbA"
      },
      "execution_count": null,
      "outputs": []
    }
  ],
  "metadata": {
    "colab": {
      "provenance": []
    },
    "kernelspec": {
      "display_name": "Python 3",
      "name": "python3"
    },
    "language_info": {
      "name": "python"
    }
  },
  "nbformat": 4,
  "nbformat_minor": 0
}