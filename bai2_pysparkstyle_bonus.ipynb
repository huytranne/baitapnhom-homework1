{
  "nbformat": 4,
  "nbformat_minor": 0,
  "metadata": {
    "colab": {
      "provenance": []
    },
    "kernelspec": {
      "name": "python3",
      "display_name": "Python 3"
    },
    "language_info": {
      "name": "python"
    }
  },
  "cells": [
    {
      "cell_type": "code",
      "source": [
        "!pip install pyspark\n",
        "!pip install -U -q PyDrive\n",
        "!apt install openjdk-8-jdk-headless -qq\n",
        "import os\n",
        "os.environ[\"JAVA_HOME\"] = \"/usr/lib/jvm/java-8-op\""
      ],
      "metadata": {
        "colab": {
          "base_uri": "https://localhost:8080/"
        },
        "id": "U26hQm0rFmp2",
        "outputId": "3656d283-d769-41e0-86a4-87d3fdccf09a"
      },
      "execution_count": null,
      "outputs": [
        {
          "output_type": "stream",
          "name": "stdout",
          "text": [
            "Looking in indexes: https://pypi.org/simple, https://us-python.pkg.dev/colab-wheels/public/simple/\n",
            "Collecting pyspark\n",
            "  Downloading pyspark-3.3.2.tar.gz (281.4 MB)\n",
            "\u001b[2K     \u001b[90m━━━━━━━━━━━━━━━━━━━━━━━━━━━━━━━━━━━━━━━\u001b[0m \u001b[32m281.4/281.4 MB\u001b[0m \u001b[31m4.0 MB/s\u001b[0m eta \u001b[36m0:00:00\u001b[0m\n",
            "\u001b[?25h  Preparing metadata (setup.py) ... \u001b[?25l\u001b[?25hdone\n",
            "Collecting py4j==0.10.9.5\n",
            "  Downloading py4j-0.10.9.5-py2.py3-none-any.whl (199 kB)\n",
            "\u001b[2K     \u001b[90m━━━━━━━━━━━━━━━━━━━━━━━━━━━━━━━━━━━━━━\u001b[0m \u001b[32m199.7/199.7 KB\u001b[0m \u001b[31m19.1 MB/s\u001b[0m eta \u001b[36m0:00:00\u001b[0m\n",
            "\u001b[?25hBuilding wheels for collected packages: pyspark\n",
            "  Building wheel for pyspark (setup.py) ... \u001b[?25l\u001b[?25hdone\n",
            "  Created wheel for pyspark: filename=pyspark-3.3.2-py2.py3-none-any.whl size=281824028 sha256=2fbed3ba8de31038a2ea972292e13204ef68fd31aab3893fb9be06435579da5f\n",
            "  Stored in directory: /root/.cache/pip/wheels/6c/e3/9b/0525ce8a69478916513509d43693511463c6468db0de237c86\n",
            "Successfully built pyspark\n",
            "Installing collected packages: py4j, pyspark\n",
            "  Attempting uninstall: py4j\n",
            "    Found existing installation: py4j 0.10.9.7\n",
            "    Uninstalling py4j-0.10.9.7:\n",
            "      Successfully uninstalled py4j-0.10.9.7\n",
            "Successfully installed py4j-0.10.9.5 pyspark-3.3.2\n",
            "The following additional packages will be installed:\n",
            "  openjdk-8-jre-headless\n",
            "Suggested packages:\n",
            "  openjdk-8-demo openjdk-8-source libnss-mdns fonts-dejavu-extra\n",
            "  fonts-ipafont-gothic fonts-ipafont-mincho fonts-wqy-microhei\n",
            "  fonts-wqy-zenhei fonts-indic\n",
            "The following NEW packages will be installed:\n",
            "  openjdk-8-jdk-headless openjdk-8-jre-headless\n",
            "0 upgraded, 2 newly installed, 0 to remove and 23 not upgraded.\n",
            "Need to get 36.5 MB of archives.\n",
            "After this operation, 144 MB of additional disk space will be used.\n",
            "Selecting previously unselected package openjdk-8-jre-headless:amd64.\n",
            "(Reading database ... 128285 files and directories currently installed.)\n",
            "Preparing to unpack .../openjdk-8-jre-headless_8u362-ga-0ubuntu1~20.04.1_amd64.deb ...\n",
            "Unpacking openjdk-8-jre-headless:amd64 (8u362-ga-0ubuntu1~20.04.1) ...\n",
            "Selecting previously unselected package openjdk-8-jdk-headless:amd64.\n",
            "Preparing to unpack .../openjdk-8-jdk-headless_8u362-ga-0ubuntu1~20.04.1_amd64.deb ...\n",
            "Unpacking openjdk-8-jdk-headless:amd64 (8u362-ga-0ubuntu1~20.04.1) ...\n",
            "Setting up openjdk-8-jre-headless:amd64 (8u362-ga-0ubuntu1~20.04.1) ...\n",
            "update-alternatives: using /usr/lib/jvm/java-8-openjdk-amd64/jre/bin/orbd to provide /usr/bin/orbd (orbd) in auto mode\n",
            "update-alternatives: using /usr/lib/jvm/java-8-openjdk-amd64/jre/bin/servertool to provide /usr/bin/servertool (servertool) in auto mode\n",
            "update-alternatives: using /usr/lib/jvm/java-8-openjdk-amd64/jre/bin/tnameserv to provide /usr/bin/tnameserv (tnameserv) in auto mode\n",
            "Setting up openjdk-8-jdk-headless:amd64 (8u362-ga-0ubuntu1~20.04.1) ...\n",
            "update-alternatives: using /usr/lib/jvm/java-8-openjdk-amd64/bin/idlj to provide /usr/bin/idlj (idlj) in auto mode\n",
            "update-alternatives: using /usr/lib/jvm/java-8-openjdk-amd64/bin/wsimport to provide /usr/bin/wsimport (wsimport) in auto mode\n",
            "update-alternatives: using /usr/lib/jvm/java-8-openjdk-amd64/bin/jsadebugd to provide /usr/bin/jsadebugd (jsadebugd) in auto mode\n",
            "update-alternatives: using /usr/lib/jvm/java-8-openjdk-amd64/bin/native2ascii to provide /usr/bin/native2ascii (native2ascii) in auto mode\n",
            "update-alternatives: using /usr/lib/jvm/java-8-openjdk-amd64/bin/javah to provide /usr/bin/javah (javah) in auto mode\n",
            "update-alternatives: using /usr/lib/jvm/java-8-openjdk-amd64/bin/hsdb to provide /usr/bin/hsdb (hsdb) in auto mode\n",
            "update-alternatives: using /usr/lib/jvm/java-8-openjdk-amd64/bin/clhsdb to provide /usr/bin/clhsdb (clhsdb) in auto mode\n",
            "update-alternatives: using /usr/lib/jvm/java-8-openjdk-amd64/bin/xjc to provide /usr/bin/xjc (xjc) in auto mode\n",
            "update-alternatives: using /usr/lib/jvm/java-8-openjdk-amd64/bin/schemagen to provide /usr/bin/schemagen (schemagen) in auto mode\n",
            "update-alternatives: using /usr/lib/jvm/java-8-openjdk-amd64/bin/extcheck to provide /usr/bin/extcheck (extcheck) in auto mode\n",
            "update-alternatives: using /usr/lib/jvm/java-8-openjdk-amd64/bin/jhat to provide /usr/bin/jhat (jhat) in auto mode\n",
            "update-alternatives: using /usr/lib/jvm/java-8-openjdk-amd64/bin/wsgen to provide /usr/bin/wsgen (wsgen) in auto mode\n"
          ]
        }
      ]
    },
    {
      "cell_type": "code",
      "source": [
        "import os\n",
        "os.environ[\"JAVA_HOME\"] = \"/usr/lib/jvm/java-8-openjdk-amd64\""
      ],
      "metadata": {
        "id": "dpo7pqKUHfq2"
      },
      "execution_count": null,
      "outputs": []
    },
    {
      "cell_type": "code",
      "source": [
        "from pydrive.auth import GoogleAuth\n",
        "from pydrive.drive import GoogleDrive\n",
        "from google.colab import auth\n",
        "from oauth2client.client import GoogleCredentials\n",
        "\n",
        "# Authenticate and create the PyDrive client\n",
        "auth.authenticate_user()\n",
        "gauth = GoogleAuth()\n",
        "gauth.credentials = GoogleCredentials.get_application_default()\n",
        "drive = GoogleDrive(gauth)"
      ],
      "metadata": {
        "id": "JutsjFPGH84M"
      },
      "execution_count": null,
      "outputs": []
    },
    {
      "cell_type": "code",
      "source": [
        "from pyspark.sql import *\n",
        "from pyspark.sql.functions import *\n",
        "from pyspark import SparkContext\n",
        "import pandas as pd\n",
        "\n"
      ],
      "metadata": {
        "id": "dPl9QZtVHzYt"
      },
      "execution_count": null,
      "outputs": []
    },
    {
      "cell_type": "code",
      "source": [
        "# create the Spark Session\n",
        "spark = SparkSession.builder.getOrCreate()\n",
        "\n",
        "# create the Spark Context\n",
        "sc = spark.sparkContext"
      ],
      "metadata": {
        "id": "e_XZ8rlUIPpf"
      },
      "execution_count": null,
      "outputs": []
    },
    {
      "cell_type": "code",
      "source": [
        "# YOUR\n",
        "txt = spark.read.text('/content/drive/MyDrive/browsing.txt')\n"
      ],
      "metadata": {
        "id": "FAPdHR0ZIVGM"
      },
      "execution_count": null,
      "outputs": []
    },
    {
      "cell_type": "code",
      "source": [
        "import re, sys, operator\n",
        "from pyspark import SparkConf, SparkContext\n",
        "\n"
      ],
      "metadata": {
        "id": "EbsN6wnBFDou"
      },
      "execution_count": null,
      "outputs": []
    },
    {
      "cell_type": "code",
      "source": [
        "lines = sc.textFile('/content/drive/MyDrive/browsing.txt')\n",
        "baskets = lines.map(lambda l: l.split())\n",
        "N = baskets.count()\n",
        "\n",
        "#def uniq_helper(basket):\n",
        "#    return len(set(basket)) != len(basket)\n",
        "#uniq = baskets.map(uniq_helper).sum() # 3 baskets have repeated items\n",
        "\n",
        "baskets = baskets.map(lambda b: sorted(set(b)))\n",
        "\n",
        "# singles\n",
        "\n",
        "def singles_helper(basket):\n",
        "    ret = []\n",
        "    for item in basket:\n",
        "        ret.append((item, 1))\n",
        "    return ret\n",
        "\n",
        "\n",
        "singles_support = baskets.flatMap(singles_helper)\n",
        "singles_support = singles_support.reduceByKey(operator.add)\n",
        "singles_support = singles_support.filter(lambda x: x[1] >= 100)\n",
        "\n",
        "singles_support_b = {}\n",
        "for item, support in singles_support.collect():\n",
        "    singles_support_b[item] = support\n",
        "\n",
        "singles_support_b = sc.broadcast(singles_support_b)\n",
        "\n",
        "# doubles\n",
        "\n",
        "def doubles_helper(basket):\n",
        "    singles = singles_support_b.value\n",
        "    ret = []\n",
        "    for i in range(len(basket)):\n",
        "        if basket[i] in singles:\n",
        "            for j in range(i):\n",
        "                if basket[j] in singles:\n",
        "                    ret.append(((basket[j], basket[i]), 1)) # basket is sorted\n",
        "    return ret\n",
        "\n",
        "\n",
        "doubles_support = baskets.flatMap(doubles_helper)\n",
        "doubles_support = doubles_support.reduceByKey(operator.add)\n",
        "doubles_support = doubles_support.filter(lambda x: x[1] >= 100)\n",
        "\n",
        "def confidence_doubles_helper(double_support):\n",
        "    double, support = double_support\n",
        "    support = float(support)\n",
        "    u, v = double\n",
        "    singles = singles_support_b.value\n",
        "    uv_conf = support / singles[u]\n",
        "    vu_conf = support / singles[v]\n",
        "    return (('%s -> %s' % (u, v), uv_conf),\n",
        "            ('%s -> %s' % (v, u), vu_conf))\n",
        "\n",
        "\n",
        "doubles_conf = doubles_support.flatMap(confidence_doubles_helper)\n",
        "doubles_conf = doubles_conf.sortBy(lambda x: (-x[1], x[0]))\n",
        "\n",
        "doubles_support_b = {}\n",
        "for entry, support in doubles_support.collect():\n",
        "    doubles_support_b[entry] = support\n",
        "\n",
        "doubles_support_b = sc.broadcast(doubles_support_b)\n",
        "\n",
        "# triples\n",
        "\n",
        "def triples_helper(basket):\n",
        "    doubles = doubles_support_b.value\n",
        "    singles = singles_support_b.value\n",
        "    ret = []\n",
        "    for i in range(len(basket)):\n",
        "        if basket[i] not in singles:\n",
        "            continue\n",
        "        for j in range(i):\n",
        "            if basket[j] not in singles:\n",
        "                continue\n",
        "            if (basket[j], basket[i]) not in doubles:\n",
        "                continue\n",
        "            for k in range(j):\n",
        "                if basket[k] not in singles:\n",
        "                    continue\n",
        "                if (basket[k], basket[j]) not in doubles:\n",
        "                    continue\n",
        "                if (basket[k], basket[i]) not in doubles:\n",
        "                    continue\n",
        "                ret.append(((basket[k], basket[j], basket[i]), 1))\n",
        "    return ret\n",
        "\n",
        "\n",
        "triples_support = baskets.flatMap(triples_helper)\n",
        "triples_support = triples_support.reduceByKey(operator.add)\n",
        "triples_support = triples_support.filter(lambda x: x[1] >= 100)\n",
        "\n",
        "def confidence_triples_helper(triple_support):\n",
        "    doubles = doubles_support_b.value\n",
        "    triple, support = triple_support\n",
        "    support = float(support)\n",
        "    u, v, w = triple\n",
        "    uv_w = support / doubles[u, v]\n",
        "    uw_v = support / doubles[u, w]\n",
        "    vw_u = support / doubles[v, w]\n",
        "    return (('(%s, %s) -> %s' % (u, v, w), uv_w),\n",
        "            ('(%s, %s) -> %s' % (u, w, v), uw_v),\n",
        "            ('(%s, %s) -> %s' % (v, w, u), vw_u))\n",
        "\n",
        "\n",
        "triples_conf = triples_support.flatMap(confidence_triples_helper)\n",
        "triples_conf = triples_conf.sortBy(lambda x: (-x[1], x[0]))\n",
        "\n",
        "with open('./bai2_homework1_.txt', 'w') as f:\n",
        "    f.write(str(doubles_conf.take(5)))\n",
        "    f.write('\\n')\n",
        "    f.write(str(triples_conf.take(5)))"
      ],
      "metadata": {
        "id": "jamnSineItbf"
      },
      "execution_count": null,
      "outputs": []
    }
  ]
}